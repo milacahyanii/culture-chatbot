{
  "nbformat": 4,
  "nbformat_minor": 0,
  "metadata": {
    "colab": {
      "provenance": []
    },
    "kernelspec": {
      "name": "python3",
      "display_name": "Python 3"
    },
    "language_info": {
      "name": "python"
    }
  },
  "cells": [
    {
      "cell_type": "markdown",
      "source": [
        "Import Libraries"
      ],
      "metadata": {
        "id": "s-FjkJFoIQsk"
      }
    },
    {
      "cell_type": "code",
      "execution_count": 1,
      "metadata": {
        "id": "eUrNqb5DHpOS"
      },
      "outputs": [],
      "source": [
        "import tensorflow as tf\n",
        "import numpy as np\n",
        "import pandas as pd\n",
        "import json\n",
        "import nltk\n",
        "import re\n",
        "import os\n",
        "from tensorflow.keras.preprocessing.text import Tokenizer\n",
        "from tensorflow.keras.preprocessing.sequence import pad_sequences\n",
        "from sklearn.preprocessing import LabelEncoder\n",
        "from sklearn.model_selection import train_test_split"
      ]
    },
    {
      "cell_type": "markdown",
      "source": [
        "Load Data"
      ],
      "metadata": {
        "id": "dnTYPti9Iugt"
      }
    },
    {
      "cell_type": "code",
      "source": [
        "# Load data\n",
        "try:\n",
        "    with open('intents.json', 'r') as content:\n",
        "        data = json.load(content)\n",
        "except FileNotFoundError:\n",
        "    print(\"Error: 'intents.json' file not found. Ensure it is in the correct directory.\")\n",
        "    raise\n"
      ],
      "metadata": {
        "id": "WSmwEbD1IzV4"
      },
      "execution_count": 2,
      "outputs": []
    },
    {
      "cell_type": "markdown",
      "source": [
        "nltk downloading"
      ],
      "metadata": {
        "id": "gJ5_m1zNJAVm"
      }
    },
    {
      "cell_type": "code",
      "source": [
        "nltk.download('stopwords')"
      ],
      "metadata": {
        "colab": {
          "base_uri": "https://localhost:8080/"
        },
        "id": "lgwZ6dYyI_-n",
        "outputId": "9a83e9bb-eaac-4757-9f21-cfb96d6ece1c"
      },
      "execution_count": 3,
      "outputs": [
        {
          "output_type": "stream",
          "name": "stderr",
          "text": [
            "[nltk_data] Downloading package stopwords to /root/nltk_data...\n",
            "[nltk_data]   Unzipping corpora/stopwords.zip.\n"
          ]
        },
        {
          "output_type": "execute_result",
          "data": {
            "text/plain": [
              "True"
            ]
          },
          "metadata": {},
          "execution_count": 3
        }
      ]
    },
    {
      "cell_type": "markdown",
      "source": [
        "Text Cleaning"
      ],
      "metadata": {
        "id": "a4pcEYMnJRGF"
      }
    },
    {
      "cell_type": "code",
      "source": [
        "def parse_text(text):\n",
        "    text = re.sub(\"[^a-zA-Z]\", ' ', text)\n",
        "    text = text.lower().split()\n",
        "    stop_words = set(nltk.corpus.stopwords.words(\"english\"))\n",
        "    text = [word for word in text if word not in stop_words]\n",
        "    return \" \".join(text)"
      ],
      "metadata": {
        "id": "7jMp_0U5JPF6"
      },
      "execution_count": 5,
      "outputs": []
    },
    {
      "cell_type": "markdown",
      "source": [
        "Data Preparation"
      ],
      "metadata": {
        "id": "r2K7PZiYJbDc"
      }
    },
    {
      "cell_type": "code",
      "source": [
        "# Prepare data\n",
        "tags = []\n",
        "inputs = []\n",
        "responses = {}\n",
        "\n",
        "# Iterate over intents\n",
        "for intent in data['intents']:\n",
        "    responses[intent['tag']] = intent['responses']\n",
        "    for pattern in intent['patterns']:\n",
        "        pattern = parse_text(pattern)\n",
        "        inputs.append(pattern)\n",
        "        tags.append(intent['tag'])"
      ],
      "metadata": {
        "id": "OxqCgzm1Jeqa"
      },
      "execution_count": 6,
      "outputs": []
    },
    {
      "cell_type": "markdown",
      "source": [
        "Convert Data to DataFrame"
      ],
      "metadata": {
        "id": "hfUNEi1GJj2Z"
      }
    },
    {
      "cell_type": "code",
      "source": [
        "# Convert to DataFrame\n",
        "data = pd.DataFrame({\"patterns\": inputs, \"tags\": tags})"
      ],
      "metadata": {
        "id": "6TUXJpVFJxSw"
      },
      "execution_count": 7,
      "outputs": []
    },
    {
      "cell_type": "markdown",
      "source": [
        "Split the dataset"
      ],
      "metadata": {
        "id": "uZTlTtl7Jz81"
      }
    },
    {
      "cell_type": "code",
      "source": [
        "# Global settings\n",
        "sentences = data['patterns']\n",
        "labels = data['tags']\n",
        "train_size = 0.8\n",
        "EMBEDDING_DIM = 100\n",
        "MAXLEN = 11\n",
        "TRUNCATING = 'post'\n",
        "PADDING = 'post'\n",
        "unique_tags = len(data['tags'].unique())\n",
        "\n",
        "# Split data\n",
        "train_sentences, val_sentences, train_labels, val_labels = train_test_split(sentences, labels, train_size=train_size, random_state=42)"
      ],
      "metadata": {
        "id": "qSjPGOXIKFum"
      },
      "execution_count": 8,
      "outputs": []
    },
    {
      "cell_type": "markdown",
      "source": [
        "Tokenization and Padding"
      ],
      "metadata": {
        "id": "GyyNUjMRKKJK"
      }
    },
    {
      "cell_type": "code",
      "source": [
        "# Tokenize\n",
        "tokenizer = Tokenizer(num_words=1000, oov_token=\"<OOV>\")\n",
        "tokenizer.fit_on_texts(train_sentences)\n",
        "word_index = tokenizer.word_index\n",
        "vocab_size = len(word_index)\n",
        "\n",
        "# Convert to sequences and pad\n",
        "train_sequences = tokenizer.texts_to_sequences(train_sentences)\n",
        "val_sequences = tokenizer.texts_to_sequences(val_sentences)\n",
        "\n",
        "train_padded = pad_sequences(train_sequences, maxlen=MAXLEN, padding=PADDING, truncating=TRUNCATING)\n",
        "val_padded = pad_sequences(val_sequences, maxlen=MAXLEN, padding=PADDING, truncating=TRUNCATING)"
      ],
      "metadata": {
        "id": "1a5Vnq4ZKM-d"
      },
      "execution_count": 9,
      "outputs": []
    },
    {
      "cell_type": "markdown",
      "source": [
        "Label Encoding"
      ],
      "metadata": {
        "id": "1SU6awXZKQBS"
      }
    },
    {
      "cell_type": "code",
      "source": [
        "# Encode labels\n",
        "label_encoder = LabelEncoder()\n",
        "\n",
        "# Fit the LabelEncoder on all unique tags\n",
        "label_encoder.fit(np.unique(tags))\n",
        "\n",
        "# Encode train and validation labels\n",
        "train_labels_encoded = label_encoder.transform(train_labels)\n",
        "val_labels_encoded = label_encoder.transform(val_labels)"
      ],
      "metadata": {
        "id": "EqBSz5meKSuh"
      },
      "execution_count": 10,
      "outputs": []
    },
    {
      "cell_type": "markdown",
      "source": [
        "Embedding"
      ],
      "metadata": {
        "id": "Ft4Ej_CeKVnp"
      }
    },
    {
      "cell_type": "code",
      "source": [
        "# Load pre-trained GloVe embeddings\n",
        "embeddings_index = {}\n",
        "try:\n",
        "    with open('glove.6B.100d.txt', 'r', encoding='utf8') as f:\n",
        "        for line in f:\n",
        "            values = line.split()\n",
        "            word = values[0]\n",
        "            coefs = np.asarray(values[1:], dtype='float32')\n",
        "            embeddings_index[word] = coefs\n",
        "except FileNotFoundError:\n",
        "    print(\"Error: 'glove.6B.100d.txt' file not found. Ensure it is in the correct directory.\")\n",
        "    raise"
      ],
      "metadata": {
        "id": "p6ZZnyykKgCk"
      },
      "execution_count": 11,
      "outputs": []
    },
    {
      "cell_type": "code",
      "source": [
        "# Create embedding matrix\n",
        "embedding_matrix = np.zeros((vocab_size + 1, EMBEDDING_DIM))\n",
        "for word, i in word_index.items():\n",
        "    embedding_vector = embeddings_index.get(word)\n",
        "    if embedding_vector is not None:\n",
        "        embedding_matrix[i] = embedding_vector"
      ],
      "metadata": {
        "id": "0zjhA4jNKn4E"
      },
      "execution_count": 12,
      "outputs": []
    },
    {
      "cell_type": "markdown",
      "source": [
        "Building the Model"
      ],
      "metadata": {
        "id": "EjRphETDKqdR"
      }
    },
    {
      "cell_type": "code",
      "source": [
        "# Model construction\n",
        "def chatbot_nlp_model(vocab_size, output_length, embedding_dim, embedding_matrix, maxlen):\n",
        "    model = tf.keras.Sequential([\n",
        "        # Embedding Layer\n",
        "        tf.keras.layers.Embedding(input_dim=vocab_size + 1,\n",
        "                                  output_dim=embedding_dim,\n",
        "                                  input_length=maxlen,\n",
        "                                  weights=[embedding_matrix],\n",
        "                                  trainable=False),\n",
        "        tf.keras.layers.SpatialDropout1D(0.2),\n",
        "        tf.keras.layers.Bidirectional(\n",
        "            tf.keras.layers.LSTM(128, return_sequences=True, dropout=0.2, recurrent_dropout=0.2)),\n",
        "        tf.keras.layers.BatchNormalization(),\n",
        "        tf.keras.layers.Bidirectional(\n",
        "            tf.keras.layers.LSTM(64, return_sequences=False, dropout=0.2, recurrent_dropout=0.2)),\n",
        "        tf.keras.layers.Dense(256, activation='relu', kernel_regularizer=tf.keras.regularizers.L1(1e-6)),\n",
        "        tf.keras.layers.BatchNormalization(),\n",
        "        tf.keras.layers.Dropout(0.3),\n",
        "        tf.keras.layers.Dense(128, activation='relu', kernel_regularizer=tf.keras.regularizers.L1(1e-6)),\n",
        "        tf.keras.layers.Dropout(0.3),\n",
        "        tf.keras.layers.Dense(output_length, activation='softmax')\n",
        "    ])\n",
        "\n",
        "    # Compile the model\n",
        "    model.compile(\n",
        "        loss='sparse_categorical_crossentropy',\n",
        "        optimizer=tf.keras.optimizers.Adam(learning_rate=0.0005),  # Reduced learning rate\n",
        "        metrics=['accuracy']\n",
        "    )\n",
        "    return model\n",
        "\n",
        "# Create and summarize the model\n",
        "model = chatbot_nlp_model(vocab_size, unique_tags, EMBEDDING_DIM, embedding_matrix, MAXLEN)\n",
        "model.summary()\n"
      ],
      "metadata": {
        "colab": {
          "base_uri": "https://localhost:8080/",
          "height": 561
        },
        "id": "ssWXAHB0Ktno",
        "outputId": "1838a3ec-684d-405a-f8c8-ba38778758fb"
      },
      "execution_count": 22,
      "outputs": [
        {
          "output_type": "display_data",
          "data": {
            "text/plain": [
              "\u001b[1mModel: \"sequential_5\"\u001b[0m\n"
            ],
            "text/html": [
              "<pre style=\"white-space:pre;overflow-x:auto;line-height:normal;font-family:Menlo,'DejaVu Sans Mono',consolas,'Courier New',monospace\"><span style=\"font-weight: bold\">Model: \"sequential_5\"</span>\n",
              "</pre>\n"
            ]
          },
          "metadata": {}
        },
        {
          "output_type": "display_data",
          "data": {
            "text/plain": [
              "┏━━━━━━━━━━━━━━━━━━━━━━━━━━━━━━━━━━━━━━┳━━━━━━━━━━━━━━━━━━━━━━━━━━━━━┳━━━━━━━━━━━━━━━━━┓\n",
              "┃\u001b[1m \u001b[0m\u001b[1mLayer (type)                        \u001b[0m\u001b[1m \u001b[0m┃\u001b[1m \u001b[0m\u001b[1mOutput Shape               \u001b[0m\u001b[1m \u001b[0m┃\u001b[1m \u001b[0m\u001b[1m        Param #\u001b[0m\u001b[1m \u001b[0m┃\n",
              "┡━━━━━━━━━━━━━━━━━━━━━━━━━━━━━━━━━━━━━━╇━━━━━━━━━━━━━━━━━━━━━━━━━━━━━╇━━━━━━━━━━━━━━━━━┩\n",
              "│ embedding_5 (\u001b[38;5;33mEmbedding\u001b[0m)              │ ?                           │          \u001b[38;5;34m81,200\u001b[0m │\n",
              "├──────────────────────────────────────┼─────────────────────────────┼─────────────────┤\n",
              "│ spatial_dropout1d_5                  │ ?                           │     \u001b[38;5;34m0\u001b[0m (unbuilt) │\n",
              "│ (\u001b[38;5;33mSpatialDropout1D\u001b[0m)                   │                             │                 │\n",
              "├──────────────────────────────────────┼─────────────────────────────┼─────────────────┤\n",
              "│ bidirectional_9 (\u001b[38;5;33mBidirectional\u001b[0m)      │ ?                           │     \u001b[38;5;34m0\u001b[0m (unbuilt) │\n",
              "├──────────────────────────────────────┼─────────────────────────────┼─────────────────┤\n",
              "│ batch_normalization_10               │ ?                           │     \u001b[38;5;34m0\u001b[0m (unbuilt) │\n",
              "│ (\u001b[38;5;33mBatchNormalization\u001b[0m)                 │                             │                 │\n",
              "├──────────────────────────────────────┼─────────────────────────────┼─────────────────┤\n",
              "│ bidirectional_10 (\u001b[38;5;33mBidirectional\u001b[0m)     │ ?                           │     \u001b[38;5;34m0\u001b[0m (unbuilt) │\n",
              "├──────────────────────────────────────┼─────────────────────────────┼─────────────────┤\n",
              "│ dense_15 (\u001b[38;5;33mDense\u001b[0m)                     │ ?                           │     \u001b[38;5;34m0\u001b[0m (unbuilt) │\n",
              "├──────────────────────────────────────┼─────────────────────────────┼─────────────────┤\n",
              "│ batch_normalization_11               │ ?                           │     \u001b[38;5;34m0\u001b[0m (unbuilt) │\n",
              "│ (\u001b[38;5;33mBatchNormalization\u001b[0m)                 │                             │                 │\n",
              "├──────────────────────────────────────┼─────────────────────────────┼─────────────────┤\n",
              "│ dropout_10 (\u001b[38;5;33mDropout\u001b[0m)                 │ ?                           │     \u001b[38;5;34m0\u001b[0m (unbuilt) │\n",
              "├──────────────────────────────────────┼─────────────────────────────┼─────────────────┤\n",
              "│ dense_16 (\u001b[38;5;33mDense\u001b[0m)                     │ ?                           │     \u001b[38;5;34m0\u001b[0m (unbuilt) │\n",
              "├──────────────────────────────────────┼─────────────────────────────┼─────────────────┤\n",
              "│ dropout_11 (\u001b[38;5;33mDropout\u001b[0m)                 │ ?                           │     \u001b[38;5;34m0\u001b[0m (unbuilt) │\n",
              "├──────────────────────────────────────┼─────────────────────────────┼─────────────────┤\n",
              "│ dense_17 (\u001b[38;5;33mDense\u001b[0m)                     │ ?                           │     \u001b[38;5;34m0\u001b[0m (unbuilt) │\n",
              "└──────────────────────────────────────┴─────────────────────────────┴─────────────────┘\n"
            ],
            "text/html": [
              "<pre style=\"white-space:pre;overflow-x:auto;line-height:normal;font-family:Menlo,'DejaVu Sans Mono',consolas,'Courier New',monospace\">┏━━━━━━━━━━━━━━━━━━━━━━━━━━━━━━━━━━━━━━┳━━━━━━━━━━━━━━━━━━━━━━━━━━━━━┳━━━━━━━━━━━━━━━━━┓\n",
              "┃<span style=\"font-weight: bold\"> Layer (type)                         </span>┃<span style=\"font-weight: bold\"> Output Shape                </span>┃<span style=\"font-weight: bold\">         Param # </span>┃\n",
              "┡━━━━━━━━━━━━━━━━━━━━━━━━━━━━━━━━━━━━━━╇━━━━━━━━━━━━━━━━━━━━━━━━━━━━━╇━━━━━━━━━━━━━━━━━┩\n",
              "│ embedding_5 (<span style=\"color: #0087ff; text-decoration-color: #0087ff\">Embedding</span>)              │ ?                           │          <span style=\"color: #00af00; text-decoration-color: #00af00\">81,200</span> │\n",
              "├──────────────────────────────────────┼─────────────────────────────┼─────────────────┤\n",
              "│ spatial_dropout1d_5                  │ ?                           │     <span style=\"color: #00af00; text-decoration-color: #00af00\">0</span> (unbuilt) │\n",
              "│ (<span style=\"color: #0087ff; text-decoration-color: #0087ff\">SpatialDropout1D</span>)                   │                             │                 │\n",
              "├──────────────────────────────────────┼─────────────────────────────┼─────────────────┤\n",
              "│ bidirectional_9 (<span style=\"color: #0087ff; text-decoration-color: #0087ff\">Bidirectional</span>)      │ ?                           │     <span style=\"color: #00af00; text-decoration-color: #00af00\">0</span> (unbuilt) │\n",
              "├──────────────────────────────────────┼─────────────────────────────┼─────────────────┤\n",
              "│ batch_normalization_10               │ ?                           │     <span style=\"color: #00af00; text-decoration-color: #00af00\">0</span> (unbuilt) │\n",
              "│ (<span style=\"color: #0087ff; text-decoration-color: #0087ff\">BatchNormalization</span>)                 │                             │                 │\n",
              "├──────────────────────────────────────┼─────────────────────────────┼─────────────────┤\n",
              "│ bidirectional_10 (<span style=\"color: #0087ff; text-decoration-color: #0087ff\">Bidirectional</span>)     │ ?                           │     <span style=\"color: #00af00; text-decoration-color: #00af00\">0</span> (unbuilt) │\n",
              "├──────────────────────────────────────┼─────────────────────────────┼─────────────────┤\n",
              "│ dense_15 (<span style=\"color: #0087ff; text-decoration-color: #0087ff\">Dense</span>)                     │ ?                           │     <span style=\"color: #00af00; text-decoration-color: #00af00\">0</span> (unbuilt) │\n",
              "├──────────────────────────────────────┼─────────────────────────────┼─────────────────┤\n",
              "│ batch_normalization_11               │ ?                           │     <span style=\"color: #00af00; text-decoration-color: #00af00\">0</span> (unbuilt) │\n",
              "│ (<span style=\"color: #0087ff; text-decoration-color: #0087ff\">BatchNormalization</span>)                 │                             │                 │\n",
              "├──────────────────────────────────────┼─────────────────────────────┼─────────────────┤\n",
              "│ dropout_10 (<span style=\"color: #0087ff; text-decoration-color: #0087ff\">Dropout</span>)                 │ ?                           │     <span style=\"color: #00af00; text-decoration-color: #00af00\">0</span> (unbuilt) │\n",
              "├──────────────────────────────────────┼─────────────────────────────┼─────────────────┤\n",
              "│ dense_16 (<span style=\"color: #0087ff; text-decoration-color: #0087ff\">Dense</span>)                     │ ?                           │     <span style=\"color: #00af00; text-decoration-color: #00af00\">0</span> (unbuilt) │\n",
              "├──────────────────────────────────────┼─────────────────────────────┼─────────────────┤\n",
              "│ dropout_11 (<span style=\"color: #0087ff; text-decoration-color: #0087ff\">Dropout</span>)                 │ ?                           │     <span style=\"color: #00af00; text-decoration-color: #00af00\">0</span> (unbuilt) │\n",
              "├──────────────────────────────────────┼─────────────────────────────┼─────────────────┤\n",
              "│ dense_17 (<span style=\"color: #0087ff; text-decoration-color: #0087ff\">Dense</span>)                     │ ?                           │     <span style=\"color: #00af00; text-decoration-color: #00af00\">0</span> (unbuilt) │\n",
              "└──────────────────────────────────────┴─────────────────────────────┴─────────────────┘\n",
              "</pre>\n"
            ]
          },
          "metadata": {}
        },
        {
          "output_type": "display_data",
          "data": {
            "text/plain": [
              "\u001b[1m Total params: \u001b[0m\u001b[38;5;34m81,200\u001b[0m (317.19 KB)\n"
            ],
            "text/html": [
              "<pre style=\"white-space:pre;overflow-x:auto;line-height:normal;font-family:Menlo,'DejaVu Sans Mono',consolas,'Courier New',monospace\"><span style=\"font-weight: bold\"> Total params: </span><span style=\"color: #00af00; text-decoration-color: #00af00\">81,200</span> (317.19 KB)\n",
              "</pre>\n"
            ]
          },
          "metadata": {}
        },
        {
          "output_type": "display_data",
          "data": {
            "text/plain": [
              "\u001b[1m Trainable params: \u001b[0m\u001b[38;5;34m0\u001b[0m (0.00 B)\n"
            ],
            "text/html": [
              "<pre style=\"white-space:pre;overflow-x:auto;line-height:normal;font-family:Menlo,'DejaVu Sans Mono',consolas,'Courier New',monospace\"><span style=\"font-weight: bold\"> Trainable params: </span><span style=\"color: #00af00; text-decoration-color: #00af00\">0</span> (0.00 B)\n",
              "</pre>\n"
            ]
          },
          "metadata": {}
        },
        {
          "output_type": "display_data",
          "data": {
            "text/plain": [
              "\u001b[1m Non-trainable params: \u001b[0m\u001b[38;5;34m81,200\u001b[0m (317.19 KB)\n"
            ],
            "text/html": [
              "<pre style=\"white-space:pre;overflow-x:auto;line-height:normal;font-family:Menlo,'DejaVu Sans Mono',consolas,'Courier New',monospace\"><span style=\"font-weight: bold\"> Non-trainable params: </span><span style=\"color: #00af00; text-decoration-color: #00af00\">81,200</span> (317.19 KB)\n",
              "</pre>\n"
            ]
          },
          "metadata": {}
        }
      ]
    },
    {
      "cell_type": "markdown",
      "source": [
        "Train the model"
      ],
      "metadata": {
        "id": "8MZi4Vp7LRZs"
      }
    },
    {
      "cell_type": "code",
      "source": [
        "# Train the model\n",
        "history = model.fit(\n",
        "    train_padded,\n",
        "    np.array(train_labels_encoded),\n",
        "    epochs=100,  # Increased epochs for better training\n",
        "    batch_size=64,  # Smaller batch size for better gradient updates\n",
        "    validation_data=(val_padded, np.array(val_labels_encoded)),\n",
        "    verbose=1\n",
        ")"
      ],
      "metadata": {
        "colab": {
          "base_uri": "https://localhost:8080/"
        },
        "id": "V-4ZTYJcLNv2",
        "outputId": "f5484231-fe3e-49bd-8ead-41075f7f5c09"
      },
      "execution_count": 23,
      "outputs": [
        {
          "output_type": "stream",
          "name": "stdout",
          "text": [
            "Epoch 1/100\n",
            "\u001b[1m111/111\u001b[0m \u001b[32m━━━━━━━━━━━━━━━━━━━━\u001b[0m\u001b[37m\u001b[0m \u001b[1m23s\u001b[0m 127ms/step - accuracy: 5.0304e-04 - loss: 7.4362 - val_accuracy: 0.0028 - val_loss: 7.3296\n",
            "Epoch 2/100\n",
            "\u001b[1m111/111\u001b[0m \u001b[32m━━━━━━━━━━━━━━━━━━━━\u001b[0m\u001b[37m\u001b[0m \u001b[1m20s\u001b[0m 124ms/step - accuracy: 0.0064 - loss: 7.1017 - val_accuracy: 0.0101 - val_loss: 7.1424\n",
            "Epoch 3/100\n",
            "\u001b[1m111/111\u001b[0m \u001b[32m━━━━━━━━━━━━━━━━━━━━\u001b[0m\u001b[37m\u001b[0m \u001b[1m13s\u001b[0m 118ms/step - accuracy: 0.0142 - loss: 6.5579 - val_accuracy: 0.0242 - val_loss: 6.3972\n",
            "Epoch 4/100\n",
            "\u001b[1m111/111\u001b[0m \u001b[32m━━━━━━━━━━━━━━━━━━━━\u001b[0m\u001b[37m\u001b[0m \u001b[1m11s\u001b[0m 103ms/step - accuracy: 0.0353 - loss: 5.9060 - val_accuracy: 0.0552 - val_loss: 5.4173\n",
            "Epoch 5/100\n",
            "\u001b[1m111/111\u001b[0m \u001b[32m━━━━━━━━━━━━━━━━━━━━\u001b[0m\u001b[37m\u001b[0m \u001b[1m23s\u001b[0m 124ms/step - accuracy: 0.0595 - loss: 5.2045 - val_accuracy: 0.1014 - val_loss: 4.5255\n",
            "Epoch 6/100\n",
            "\u001b[1m111/111\u001b[0m \u001b[32m━━━━━━━━━━━━━━━━━━━━\u001b[0m\u001b[37m\u001b[0m \u001b[1m20s\u001b[0m 120ms/step - accuracy: 0.1064 - loss: 4.5260 - val_accuracy: 0.1797 - val_loss: 3.7954\n",
            "Epoch 7/100\n",
            "\u001b[1m111/111\u001b[0m \u001b[32m━━━━━━━━━━━━━━━━━━━━\u001b[0m\u001b[37m\u001b[0m \u001b[1m22s\u001b[0m 132ms/step - accuracy: 0.1471 - loss: 3.9792 - val_accuracy: 0.2783 - val_loss: 3.1745\n",
            "Epoch 8/100\n",
            "\u001b[1m111/111\u001b[0m \u001b[32m━━━━━━━━━━━━━━━━━━━━\u001b[0m\u001b[37m\u001b[0m \u001b[1m20s\u001b[0m 124ms/step - accuracy: 0.2014 - loss: 3.5297 - val_accuracy: 0.3561 - val_loss: 2.6984\n",
            "Epoch 9/100\n",
            "\u001b[1m111/111\u001b[0m \u001b[32m━━━━━━━━━━━━━━━━━━━━\u001b[0m\u001b[37m\u001b[0m \u001b[1m20s\u001b[0m 118ms/step - accuracy: 0.2492 - loss: 3.1105 - val_accuracy: 0.4445 - val_loss: 2.2904\n",
            "Epoch 10/100\n",
            "\u001b[1m111/111\u001b[0m \u001b[32m━━━━━━━━━━━━━━━━━━━━\u001b[0m\u001b[37m\u001b[0m \u001b[1m14s\u001b[0m 126ms/step - accuracy: 0.2808 - loss: 2.8128 - val_accuracy: 0.5138 - val_loss: 1.9598\n",
            "Epoch 11/100\n",
            "\u001b[1m111/111\u001b[0m \u001b[32m━━━━━━━━━━━━━━━━━━━━\u001b[0m\u001b[37m\u001b[0m \u001b[1m18s\u001b[0m 104ms/step - accuracy: 0.3438 - loss: 2.5125 - val_accuracy: 0.5645 - val_loss: 1.7135\n",
            "Epoch 12/100\n",
            "\u001b[1m111/111\u001b[0m \u001b[32m━━━━━━━━━━━━━━━━━━━━\u001b[0m\u001b[37m\u001b[0m \u001b[1m23s\u001b[0m 125ms/step - accuracy: 0.3901 - loss: 2.2262 - val_accuracy: 0.6062 - val_loss: 1.4925\n",
            "Epoch 13/100\n",
            "\u001b[1m111/111\u001b[0m \u001b[32m━━━━━━━━━━━━━━━━━━━━\u001b[0m\u001b[37m\u001b[0m \u001b[1m20s\u001b[0m 122ms/step - accuracy: 0.4248 - loss: 2.0230 - val_accuracy: 0.6603 - val_loss: 1.3052\n",
            "Epoch 14/100\n",
            "\u001b[1m111/111\u001b[0m \u001b[32m━━━━━━━━━━━━━━━━━━━━\u001b[0m\u001b[37m\u001b[0m \u001b[1m20s\u001b[0m 120ms/step - accuracy: 0.4721 - loss: 1.8473 - val_accuracy: 0.7155 - val_loss: 1.1312\n",
            "Epoch 15/100\n",
            "\u001b[1m111/111\u001b[0m \u001b[32m━━━━━━━━━━━━━━━━━━━━\u001b[0m\u001b[37m\u001b[0m \u001b[1m21s\u001b[0m 126ms/step - accuracy: 0.5248 - loss: 1.6816 - val_accuracy: 0.7285 - val_loss: 1.0453\n",
            "Epoch 16/100\n",
            "\u001b[1m111/111\u001b[0m \u001b[32m━━━━━━━━━━━━━━━━━━━━\u001b[0m\u001b[37m\u001b[0m \u001b[1m14s\u001b[0m 126ms/step - accuracy: 0.5511 - loss: 1.5025 - val_accuracy: 0.7730 - val_loss: 0.9315\n",
            "Epoch 17/100\n",
            "\u001b[1m111/111\u001b[0m \u001b[32m━━━━━━━━━━━━━━━━━━━━\u001b[0m\u001b[37m\u001b[0m \u001b[1m21s\u001b[0m 127ms/step - accuracy: 0.5849 - loss: 1.3907 - val_accuracy: 0.7803 - val_loss: 0.8590\n",
            "Epoch 18/100\n",
            "\u001b[1m111/111\u001b[0m \u001b[32m━━━━━━━━━━━━━━━━━━━━\u001b[0m\u001b[37m\u001b[0m \u001b[1m14s\u001b[0m 127ms/step - accuracy: 0.6039 - loss: 1.3157 - val_accuracy: 0.7989 - val_loss: 0.8022\n",
            "Epoch 19/100\n",
            "\u001b[1m111/111\u001b[0m \u001b[32m━━━━━━━━━━━━━━━━━━━━\u001b[0m\u001b[37m\u001b[0m \u001b[1m14s\u001b[0m 127ms/step - accuracy: 0.6360 - loss: 1.1765 - val_accuracy: 0.8259 - val_loss: 0.7188\n",
            "Epoch 20/100\n",
            "\u001b[1m111/111\u001b[0m \u001b[32m━━━━━━━━━━━━━━━━━━━━\u001b[0m\u001b[37m\u001b[0m \u001b[1m20s\u001b[0m 125ms/step - accuracy: 0.6768 - loss: 1.0898 - val_accuracy: 0.8321 - val_loss: 0.6937\n",
            "Epoch 21/100\n",
            "\u001b[1m111/111\u001b[0m \u001b[32m━━━━━━━━━━━━━━━━━━━━\u001b[0m\u001b[37m\u001b[0m \u001b[1m18s\u001b[0m 106ms/step - accuracy: 0.6850 - loss: 1.0208 - val_accuracy: 0.8361 - val_loss: 0.6570\n",
            "Epoch 22/100\n",
            "\u001b[1m111/111\u001b[0m \u001b[32m━━━━━━━━━━━━━━━━━━━━\u001b[0m\u001b[37m\u001b[0m \u001b[1m13s\u001b[0m 116ms/step - accuracy: 0.7139 - loss: 0.9209 - val_accuracy: 0.8558 - val_loss: 0.6193\n",
            "Epoch 23/100\n",
            "\u001b[1m111/111\u001b[0m \u001b[32m━━━━━━━━━━━━━━━━━━━━\u001b[0m\u001b[37m\u001b[0m \u001b[1m14s\u001b[0m 127ms/step - accuracy: 0.7293 - loss: 0.8875 - val_accuracy: 0.8608 - val_loss: 0.6119\n",
            "Epoch 24/100\n",
            "\u001b[1m111/111\u001b[0m \u001b[32m━━━━━━━━━━━━━━━━━━━━\u001b[0m\u001b[37m\u001b[0m \u001b[1m14s\u001b[0m 128ms/step - accuracy: 0.7355 - loss: 0.8436 - val_accuracy: 0.8654 - val_loss: 0.5658\n",
            "Epoch 25/100\n",
            "\u001b[1m111/111\u001b[0m \u001b[32m━━━━━━━━━━━━━━━━━━━━\u001b[0m\u001b[37m\u001b[0m \u001b[1m19s\u001b[0m 117ms/step - accuracy: 0.7545 - loss: 0.7941 - val_accuracy: 0.8715 - val_loss: 0.5678\n",
            "Epoch 26/100\n",
            "\u001b[1m111/111\u001b[0m \u001b[32m━━━━━━━━━━━━━━━━━━━━\u001b[0m\u001b[37m\u001b[0m \u001b[1m21s\u001b[0m 127ms/step - accuracy: 0.7662 - loss: 0.7453 - val_accuracy: 0.8811 - val_loss: 0.5374\n",
            "Epoch 27/100\n",
            "\u001b[1m111/111\u001b[0m \u001b[32m━━━━━━━━━━━━━━━━━━━━\u001b[0m\u001b[37m\u001b[0m \u001b[1m14s\u001b[0m 122ms/step - accuracy: 0.7719 - loss: 0.7015 - val_accuracy: 0.8901 - val_loss: 0.5092\n",
            "Epoch 28/100\n",
            "\u001b[1m111/111\u001b[0m \u001b[32m━━━━━━━━━━━━━━━━━━━━\u001b[0m\u001b[37m\u001b[0m \u001b[1m21s\u001b[0m 125ms/step - accuracy: 0.7953 - loss: 0.6629 - val_accuracy: 0.8913 - val_loss: 0.4895\n",
            "Epoch 29/100\n",
            "\u001b[1m111/111\u001b[0m \u001b[32m━━━━━━━━━━━━━━━━━━━━\u001b[0m\u001b[37m\u001b[0m \u001b[1m14s\u001b[0m 126ms/step - accuracy: 0.8058 - loss: 0.6180 - val_accuracy: 0.8918 - val_loss: 0.4825\n",
            "Epoch 30/100\n",
            "\u001b[1m111/111\u001b[0m \u001b[32m━━━━━━━━━━━━━━━━━━━━\u001b[0m\u001b[37m\u001b[0m \u001b[1m13s\u001b[0m 121ms/step - accuracy: 0.8049 - loss: 0.6014 - val_accuracy: 0.8913 - val_loss: 0.4851\n",
            "Epoch 31/100\n",
            "\u001b[1m111/111\u001b[0m \u001b[32m━━━━━━━━━━━━━━━━━━━━\u001b[0m\u001b[37m\u001b[0m \u001b[1m21s\u001b[0m 126ms/step - accuracy: 0.8044 - loss: 0.6038 - val_accuracy: 0.9003 - val_loss: 0.4669\n",
            "Epoch 32/100\n",
            "\u001b[1m111/111\u001b[0m \u001b[32m━━━━━━━━━━━━━━━━━━━━\u001b[0m\u001b[37m\u001b[0m \u001b[1m19s\u001b[0m 113ms/step - accuracy: 0.8310 - loss: 0.5290 - val_accuracy: 0.9115 - val_loss: 0.4388\n",
            "Epoch 33/100\n",
            "\u001b[1m111/111\u001b[0m \u001b[32m━━━━━━━━━━━━━━━━━━━━\u001b[0m\u001b[37m\u001b[0m \u001b[1m22s\u001b[0m 124ms/step - accuracy: 0.8266 - loss: 0.5302 - val_accuracy: 0.9059 - val_loss: 0.4446\n",
            "Epoch 34/100\n",
            "\u001b[1m111/111\u001b[0m \u001b[32m━━━━━━━━━━━━━━━━━━━━\u001b[0m\u001b[37m\u001b[0m \u001b[1m13s\u001b[0m 116ms/step - accuracy: 0.8281 - loss: 0.5168 - val_accuracy: 0.9087 - val_loss: 0.4331\n",
            "Epoch 35/100\n",
            "\u001b[1m111/111\u001b[0m \u001b[32m━━━━━━━━━━━━━━━━━━━━\u001b[0m\u001b[37m\u001b[0m \u001b[1m21s\u001b[0m 123ms/step - accuracy: 0.8302 - loss: 0.5060 - val_accuracy: 0.9099 - val_loss: 0.4257\n",
            "Epoch 36/100\n",
            "\u001b[1m111/111\u001b[0m \u001b[32m━━━━━━━━━━━━━━━━━━━━\u001b[0m\u001b[37m\u001b[0m \u001b[1m14s\u001b[0m 124ms/step - accuracy: 0.8408 - loss: 0.5017 - val_accuracy: 0.9138 - val_loss: 0.4152\n",
            "Epoch 37/100\n",
            "\u001b[1m111/111\u001b[0m \u001b[32m━━━━━━━━━━━━━━━━━━━━\u001b[0m\u001b[37m\u001b[0m \u001b[1m21s\u001b[0m 125ms/step - accuracy: 0.8610 - loss: 0.4562 - val_accuracy: 0.9172 - val_loss: 0.4233\n",
            "Epoch 38/100\n",
            "\u001b[1m111/111\u001b[0m \u001b[32m━━━━━━━━━━━━━━━━━━━━\u001b[0m\u001b[37m\u001b[0m \u001b[1m14s\u001b[0m 124ms/step - accuracy: 0.8605 - loss: 0.4389 - val_accuracy: 0.9144 - val_loss: 0.4156\n",
            "Epoch 39/100\n",
            "\u001b[1m111/111\u001b[0m \u001b[32m━━━━━━━━━━━━━━━━━━━━\u001b[0m\u001b[37m\u001b[0m \u001b[1m20s\u001b[0m 122ms/step - accuracy: 0.8652 - loss: 0.4281 - val_accuracy: 0.9256 - val_loss: 0.4058\n",
            "Epoch 40/100\n",
            "\u001b[1m111/111\u001b[0m \u001b[32m━━━━━━━━━━━━━━━━━━━━\u001b[0m\u001b[37m\u001b[0m \u001b[1m14s\u001b[0m 124ms/step - accuracy: 0.8696 - loss: 0.3991 - val_accuracy: 0.9189 - val_loss: 0.4116\n",
            "Epoch 41/100\n",
            "\u001b[1m111/111\u001b[0m \u001b[32m━━━━━━━━━━━━━━━━━━━━\u001b[0m\u001b[37m\u001b[0m \u001b[1m18s\u001b[0m 104ms/step - accuracy: 0.8814 - loss: 0.3803 - val_accuracy: 0.9279 - val_loss: 0.4057\n",
            "Epoch 42/100\n",
            "\u001b[1m111/111\u001b[0m \u001b[32m━━━━━━━━━━━━━━━━━━━━\u001b[0m\u001b[37m\u001b[0m \u001b[1m22s\u001b[0m 120ms/step - accuracy: 0.8772 - loss: 0.3899 - val_accuracy: 0.9313 - val_loss: 0.4019\n",
            "Epoch 43/100\n",
            "\u001b[1m111/111\u001b[0m \u001b[32m━━━━━━━━━━━━━━━━━━━━\u001b[0m\u001b[37m\u001b[0m \u001b[1m20s\u001b[0m 117ms/step - accuracy: 0.8831 - loss: 0.3566 - val_accuracy: 0.9273 - val_loss: 0.3922\n",
            "Epoch 44/100\n",
            "\u001b[1m111/111\u001b[0m \u001b[32m━━━━━━━━━━━━━━━━━━━━\u001b[0m\u001b[37m\u001b[0m \u001b[1m14s\u001b[0m 124ms/step - accuracy: 0.8784 - loss: 0.3708 - val_accuracy: 0.9279 - val_loss: 0.3859\n",
            "Epoch 45/100\n",
            "\u001b[1m111/111\u001b[0m \u001b[32m━━━━━━━━━━━━━━━━━━━━\u001b[0m\u001b[37m\u001b[0m \u001b[1m14s\u001b[0m 124ms/step - accuracy: 0.8818 - loss: 0.3679 - val_accuracy: 0.9285 - val_loss: 0.3932\n",
            "Epoch 46/100\n",
            "\u001b[1m111/111\u001b[0m \u001b[32m━━━━━━━━━━━━━━━━━━━━\u001b[0m\u001b[37m\u001b[0m \u001b[1m13s\u001b[0m 122ms/step - accuracy: 0.8883 - loss: 0.3375 - val_accuracy: 0.9307 - val_loss: 0.3963\n",
            "Epoch 47/100\n",
            "\u001b[1m111/111\u001b[0m \u001b[32m━━━━━━━━━━━━━━━━━━━━\u001b[0m\u001b[37m\u001b[0m \u001b[1m21s\u001b[0m 124ms/step - accuracy: 0.8873 - loss: 0.3426 - val_accuracy: 0.9335 - val_loss: 0.3847\n",
            "Epoch 48/100\n",
            "\u001b[1m111/111\u001b[0m \u001b[32m━━━━━━━━━━━━━━━━━━━━\u001b[0m\u001b[37m\u001b[0m \u001b[1m14s\u001b[0m 124ms/step - accuracy: 0.8903 - loss: 0.3348 - val_accuracy: 0.9324 - val_loss: 0.3855\n",
            "Epoch 49/100\n",
            "\u001b[1m111/111\u001b[0m \u001b[32m━━━━━━━━━━━━━━━━━━━━\u001b[0m\u001b[37m\u001b[0m \u001b[1m20s\u001b[0m 118ms/step - accuracy: 0.9006 - loss: 0.3221 - val_accuracy: 0.9369 - val_loss: 0.3728\n",
            "Epoch 50/100\n",
            "\u001b[1m111/111\u001b[0m \u001b[32m━━━━━━━━━━━━━━━━━━━━\u001b[0m\u001b[37m\u001b[0m \u001b[1m21s\u001b[0m 122ms/step - accuracy: 0.8981 - loss: 0.3066 - val_accuracy: 0.9386 - val_loss: 0.3789\n",
            "Epoch 51/100\n",
            "\u001b[1m111/111\u001b[0m \u001b[32m━━━━━━━━━━━━━━━━━━━━\u001b[0m\u001b[37m\u001b[0m \u001b[1m21s\u001b[0m 126ms/step - accuracy: 0.8958 - loss: 0.3271 - val_accuracy: 0.9363 - val_loss: 0.3775\n",
            "Epoch 52/100\n",
            "\u001b[1m111/111\u001b[0m \u001b[32m━━━━━━━━━━━━━━━━━━━━\u001b[0m\u001b[37m\u001b[0m \u001b[1m14s\u001b[0m 128ms/step - accuracy: 0.9051 - loss: 0.2943 - val_accuracy: 0.9363 - val_loss: 0.3679\n",
            "Epoch 53/100\n",
            "\u001b[1m111/111\u001b[0m \u001b[32m━━━━━━━━━━━━━━━━━━━━\u001b[0m\u001b[37m\u001b[0m \u001b[1m20s\u001b[0m 124ms/step - accuracy: 0.9049 - loss: 0.2837 - val_accuracy: 0.9369 - val_loss: 0.3786\n",
            "Epoch 54/100\n",
            "\u001b[1m111/111\u001b[0m \u001b[32m━━━━━━━━━━━━━━━━━━━━\u001b[0m\u001b[37m\u001b[0m \u001b[1m14s\u001b[0m 129ms/step - accuracy: 0.9194 - loss: 0.2581 - val_accuracy: 0.9386 - val_loss: 0.3634\n",
            "Epoch 55/100\n",
            "\u001b[1m111/111\u001b[0m \u001b[32m━━━━━━━━━━━━━━━━━━━━\u001b[0m\u001b[37m\u001b[0m \u001b[1m18s\u001b[0m 103ms/step - accuracy: 0.9074 - loss: 0.2720 - val_accuracy: 0.9335 - val_loss: 0.3816\n",
            "Epoch 56/100\n",
            "\u001b[1m111/111\u001b[0m \u001b[32m━━━━━━━━━━━━━━━━━━━━\u001b[0m\u001b[37m\u001b[0m \u001b[1m23s\u001b[0m 122ms/step - accuracy: 0.9119 - loss: 0.2640 - val_accuracy: 0.9414 - val_loss: 0.3787\n",
            "Epoch 57/100\n",
            "\u001b[1m111/111\u001b[0m \u001b[32m━━━━━━━━━━━━━━━━━━━━\u001b[0m\u001b[37m\u001b[0m \u001b[1m14s\u001b[0m 127ms/step - accuracy: 0.9035 - loss: 0.2777 - val_accuracy: 0.9420 - val_loss: 0.3692\n",
            "Epoch 58/100\n",
            "\u001b[1m111/111\u001b[0m \u001b[32m━━━━━━━━━━━━━━━━━━━━\u001b[0m\u001b[37m\u001b[0m \u001b[1m20s\u001b[0m 126ms/step - accuracy: 0.9104 - loss: 0.2752 - val_accuracy: 0.9408 - val_loss: 0.3712\n",
            "Epoch 59/100\n",
            "\u001b[1m111/111\u001b[0m \u001b[32m━━━━━━━━━━━━━━━━━━━━\u001b[0m\u001b[37m\u001b[0m \u001b[1m18s\u001b[0m 104ms/step - accuracy: 0.9142 - loss: 0.2675 - val_accuracy: 0.9425 - val_loss: 0.3663\n",
            "Epoch 60/100\n",
            "\u001b[1m111/111\u001b[0m \u001b[32m━━━━━━━━━━━━━━━━━━━━\u001b[0m\u001b[37m\u001b[0m \u001b[1m23s\u001b[0m 126ms/step - accuracy: 0.9097 - loss: 0.2641 - val_accuracy: 0.9420 - val_loss: 0.3719\n",
            "Epoch 61/100\n",
            "\u001b[1m111/111\u001b[0m \u001b[32m━━━━━━━━━━━━━━━━━━━━\u001b[0m\u001b[37m\u001b[0m \u001b[1m14s\u001b[0m 125ms/step - accuracy: 0.9138 - loss: 0.2546 - val_accuracy: 0.9403 - val_loss: 0.3673\n",
            "Epoch 62/100\n",
            "\u001b[1m111/111\u001b[0m \u001b[32m━━━━━━━━━━━━━━━━━━━━\u001b[0m\u001b[37m\u001b[0m \u001b[1m13s\u001b[0m 115ms/step - accuracy: 0.9290 - loss: 0.2218 - val_accuracy: 0.9437 - val_loss: 0.3738\n",
            "Epoch 63/100\n",
            "\u001b[1m111/111\u001b[0m \u001b[32m━━━━━━━━━━━━━━━━━━━━\u001b[0m\u001b[37m\u001b[0m \u001b[1m22s\u001b[0m 126ms/step - accuracy: 0.9304 - loss: 0.2172 - val_accuracy: 0.9375 - val_loss: 0.3850\n",
            "Epoch 64/100\n",
            "\u001b[1m111/111\u001b[0m \u001b[32m━━━━━━━━━━━━━━━━━━━━\u001b[0m\u001b[37m\u001b[0m \u001b[1m21s\u001b[0m 127ms/step - accuracy: 0.9218 - loss: 0.2447 - val_accuracy: 0.9420 - val_loss: 0.3815\n",
            "Epoch 65/100\n",
            "\u001b[1m111/111\u001b[0m \u001b[32m━━━━━━━━━━━━━━━━━━━━\u001b[0m\u001b[37m\u001b[0m \u001b[1m14s\u001b[0m 124ms/step - accuracy: 0.9279 - loss: 0.2286 - val_accuracy: 0.9414 - val_loss: 0.3857\n",
            "Epoch 66/100\n",
            "\u001b[1m111/111\u001b[0m \u001b[32m━━━━━━━━━━━━━━━━━━━━\u001b[0m\u001b[37m\u001b[0m \u001b[1m14s\u001b[0m 124ms/step - accuracy: 0.9283 - loss: 0.2198 - val_accuracy: 0.9442 - val_loss: 0.3810\n",
            "Epoch 67/100\n",
            "\u001b[1m111/111\u001b[0m \u001b[32m━━━━━━━━━━━━━━━━━━━━\u001b[0m\u001b[37m\u001b[0m \u001b[1m14s\u001b[0m 124ms/step - accuracy: 0.9264 - loss: 0.2177 - val_accuracy: 0.9403 - val_loss: 0.3845\n",
            "Epoch 68/100\n",
            "\u001b[1m111/111\u001b[0m \u001b[32m━━━━━━━━━━━━━━━━━━━━\u001b[0m\u001b[37m\u001b[0m \u001b[1m21s\u001b[0m 124ms/step - accuracy: 0.9226 - loss: 0.2388 - val_accuracy: 0.9442 - val_loss: 0.3770\n",
            "Epoch 69/100\n",
            "\u001b[1m111/111\u001b[0m \u001b[32m━━━━━━━━━━━━━━━━━━━━\u001b[0m\u001b[37m\u001b[0m \u001b[1m18s\u001b[0m 104ms/step - accuracy: 0.9312 - loss: 0.2105 - val_accuracy: 0.9442 - val_loss: 0.3722\n",
            "Epoch 70/100\n",
            "\u001b[1m111/111\u001b[0m \u001b[32m━━━━━━━━━━━━━━━━━━━━\u001b[0m\u001b[37m\u001b[0m \u001b[1m14s\u001b[0m 123ms/step - accuracy: 0.9348 - loss: 0.1955 - val_accuracy: 0.9420 - val_loss: 0.3680\n",
            "Epoch 71/100\n",
            "\u001b[1m111/111\u001b[0m \u001b[32m━━━━━━━━━━━━━━━━━━━━\u001b[0m\u001b[37m\u001b[0m \u001b[1m14s\u001b[0m 126ms/step - accuracy: 0.9299 - loss: 0.2239 - val_accuracy: 0.9403 - val_loss: 0.3821\n",
            "Epoch 72/100\n",
            "\u001b[1m111/111\u001b[0m \u001b[32m━━━━━━━━━━━━━━━━━━━━\u001b[0m\u001b[37m\u001b[0m \u001b[1m18s\u001b[0m 105ms/step - accuracy: 0.9343 - loss: 0.2052 - val_accuracy: 0.9408 - val_loss: 0.3823\n",
            "Epoch 73/100\n",
            "\u001b[1m111/111\u001b[0m \u001b[32m━━━━━━━━━━━━━━━━━━━━\u001b[0m\u001b[37m\u001b[0m \u001b[1m23s\u001b[0m 125ms/step - accuracy: 0.9254 - loss: 0.2072 - val_accuracy: 0.9414 - val_loss: 0.3857\n",
            "Epoch 74/100\n",
            "\u001b[1m111/111\u001b[0m \u001b[32m━━━━━━━━━━━━━━━━━━━━\u001b[0m\u001b[37m\u001b[0m \u001b[1m20s\u001b[0m 123ms/step - accuracy: 0.9305 - loss: 0.2088 - val_accuracy: 0.9414 - val_loss: 0.3684\n",
            "Epoch 75/100\n",
            "\u001b[1m111/111\u001b[0m \u001b[32m━━━━━━━━━━━━━━━━━━━━\u001b[0m\u001b[37m\u001b[0m \u001b[1m14s\u001b[0m 122ms/step - accuracy: 0.9332 - loss: 0.2051 - val_accuracy: 0.9431 - val_loss: 0.3668\n",
            "Epoch 76/100\n",
            "\u001b[1m111/111\u001b[0m \u001b[32m━━━━━━━━━━━━━━━━━━━━\u001b[0m\u001b[37m\u001b[0m \u001b[1m21s\u001b[0m 125ms/step - accuracy: 0.9354 - loss: 0.1925 - val_accuracy: 0.9442 - val_loss: 0.3729\n",
            "Epoch 77/100\n",
            "\u001b[1m111/111\u001b[0m \u001b[32m━━━━━━━━━━━━━━━━━━━━\u001b[0m\u001b[37m\u001b[0m \u001b[1m21s\u001b[0m 127ms/step - accuracy: 0.9376 - loss: 0.1806 - val_accuracy: 0.9425 - val_loss: 0.3811\n",
            "Epoch 78/100\n",
            "\u001b[1m111/111\u001b[0m \u001b[32m━━━━━━━━━━━━━━━━━━━━\u001b[0m\u001b[37m\u001b[0m \u001b[1m19s\u001b[0m 117ms/step - accuracy: 0.9368 - loss: 0.1858 - val_accuracy: 0.9420 - val_loss: 0.3863\n",
            "Epoch 79/100\n",
            "\u001b[1m111/111\u001b[0m \u001b[32m━━━━━━━━━━━━━━━━━━━━\u001b[0m\u001b[37m\u001b[0m \u001b[1m21s\u001b[0m 126ms/step - accuracy: 0.9326 - loss: 0.2080 - val_accuracy: 0.9425 - val_loss: 0.3837\n",
            "Epoch 80/100\n",
            "\u001b[1m111/111\u001b[0m \u001b[32m━━━━━━━━━━━━━━━━━━━━\u001b[0m\u001b[37m\u001b[0m \u001b[1m20s\u001b[0m 126ms/step - accuracy: 0.9396 - loss: 0.1879 - val_accuracy: 0.9386 - val_loss: 0.3874\n",
            "Epoch 81/100\n",
            "\u001b[1m111/111\u001b[0m \u001b[32m━━━━━━━━━━━━━━━━━━━━\u001b[0m\u001b[37m\u001b[0m \u001b[1m14s\u001b[0m 123ms/step - accuracy: 0.9362 - loss: 0.1942 - val_accuracy: 0.9420 - val_loss: 0.3751\n",
            "Epoch 82/100\n",
            "\u001b[1m111/111\u001b[0m \u001b[32m━━━━━━━━━━━━━━━━━━━━\u001b[0m\u001b[37m\u001b[0m \u001b[1m14s\u001b[0m 126ms/step - accuracy: 0.9391 - loss: 0.1891 - val_accuracy: 0.9392 - val_loss: 0.3738\n",
            "Epoch 83/100\n",
            "\u001b[1m111/111\u001b[0m \u001b[32m━━━━━━━━━━━━━━━━━━━━\u001b[0m\u001b[37m\u001b[0m \u001b[1m20s\u001b[0m 124ms/step - accuracy: 0.9401 - loss: 0.1733 - val_accuracy: 0.9414 - val_loss: 0.3897\n",
            "Epoch 84/100\n",
            "\u001b[1m111/111\u001b[0m \u001b[32m━━━━━━━━━━━━━━━━━━━━\u001b[0m\u001b[37m\u001b[0m \u001b[1m14s\u001b[0m 124ms/step - accuracy: 0.9374 - loss: 0.1903 - val_accuracy: 0.9431 - val_loss: 0.3769\n",
            "Epoch 85/100\n",
            "\u001b[1m111/111\u001b[0m \u001b[32m━━━━━━━━━━━━━━━━━━━━\u001b[0m\u001b[37m\u001b[0m \u001b[1m14s\u001b[0m 123ms/step - accuracy: 0.9410 - loss: 0.1727 - val_accuracy: 0.9408 - val_loss: 0.3949\n",
            "Epoch 86/100\n",
            "\u001b[1m111/111\u001b[0m \u001b[32m━━━━━━━━━━━━━━━━━━━━\u001b[0m\u001b[37m\u001b[0m \u001b[1m21s\u001b[0m 126ms/step - accuracy: 0.9385 - loss: 0.1863 - val_accuracy: 0.9425 - val_loss: 0.3908\n",
            "Epoch 87/100\n",
            "\u001b[1m111/111\u001b[0m \u001b[32m━━━━━━━━━━━━━━━━━━━━\u001b[0m\u001b[37m\u001b[0m \u001b[1m14s\u001b[0m 126ms/step - accuracy: 0.9420 - loss: 0.1716 - val_accuracy: 0.9425 - val_loss: 0.3846\n",
            "Epoch 88/100\n",
            "\u001b[1m111/111\u001b[0m \u001b[32m━━━━━━━━━━━━━━━━━━━━\u001b[0m\u001b[37m\u001b[0m \u001b[1m21s\u001b[0m 127ms/step - accuracy: 0.9501 - loss: 0.1588 - val_accuracy: 0.9420 - val_loss: 0.3855\n",
            "Epoch 89/100\n",
            "\u001b[1m111/111\u001b[0m \u001b[32m━━━━━━━━━━━━━━━━━━━━\u001b[0m\u001b[37m\u001b[0m \u001b[1m18s\u001b[0m 107ms/step - accuracy: 0.9442 - loss: 0.1744 - val_accuracy: 0.9448 - val_loss: 0.3991\n",
            "Epoch 90/100\n",
            "\u001b[1m111/111\u001b[0m \u001b[32m━━━━━━━━━━━━━━━━━━━━\u001b[0m\u001b[37m\u001b[0m \u001b[1m22s\u001b[0m 125ms/step - accuracy: 0.9462 - loss: 0.1714 - val_accuracy: 0.9431 - val_loss: 0.3759\n",
            "Epoch 91/100\n",
            "\u001b[1m111/111\u001b[0m \u001b[32m━━━━━━━━━━━━━━━━━━━━\u001b[0m\u001b[37m\u001b[0m \u001b[1m20s\u001b[0m 117ms/step - accuracy: 0.9400 - loss: 0.1653 - val_accuracy: 0.9420 - val_loss: 0.3690\n",
            "Epoch 92/100\n",
            "\u001b[1m111/111\u001b[0m \u001b[32m━━━━━━━━━━━━━━━━━━━━\u001b[0m\u001b[37m\u001b[0m \u001b[1m14s\u001b[0m 126ms/step - accuracy: 0.9445 - loss: 0.1780 - val_accuracy: 0.9454 - val_loss: 0.3785\n",
            "Epoch 93/100\n",
            "\u001b[1m111/111\u001b[0m \u001b[32m━━━━━━━━━━━━━━━━━━━━\u001b[0m\u001b[37m\u001b[0m \u001b[1m18s\u001b[0m 106ms/step - accuracy: 0.9481 - loss: 0.1507 - val_accuracy: 0.9454 - val_loss: 0.3593\n",
            "Epoch 94/100\n",
            "\u001b[1m111/111\u001b[0m \u001b[32m━━━━━━━━━━━━━━━━━━━━\u001b[0m\u001b[37m\u001b[0m \u001b[1m23s\u001b[0m 128ms/step - accuracy: 0.9485 - loss: 0.1554 - val_accuracy: 0.9448 - val_loss: 0.3750\n",
            "Epoch 95/100\n",
            "\u001b[1m111/111\u001b[0m \u001b[32m━━━━━━━━━━━━━━━━━━━━\u001b[0m\u001b[37m\u001b[0m \u001b[1m20s\u001b[0m 124ms/step - accuracy: 0.9451 - loss: 0.1588 - val_accuracy: 0.9425 - val_loss: 0.3747\n",
            "Epoch 96/100\n",
            "\u001b[1m111/111\u001b[0m \u001b[32m━━━━━━━━━━━━━━━━━━━━\u001b[0m\u001b[37m\u001b[0m \u001b[1m21s\u001b[0m 132ms/step - accuracy: 0.9490 - loss: 0.1532 - val_accuracy: 0.9414 - val_loss: 0.3833\n",
            "Epoch 97/100\n",
            "\u001b[1m111/111\u001b[0m \u001b[32m━━━━━━━━━━━━━━━━━━━━\u001b[0m\u001b[37m\u001b[0m \u001b[1m20s\u001b[0m 127ms/step - accuracy: 0.9553 - loss: 0.1442 - val_accuracy: 0.9459 - val_loss: 0.4012\n",
            "Epoch 98/100\n",
            "\u001b[1m111/111\u001b[0m \u001b[32m━━━━━━━━━━━━━━━━━━━━\u001b[0m\u001b[37m\u001b[0m \u001b[1m20s\u001b[0m 120ms/step - accuracy: 0.9478 - loss: 0.1646 - val_accuracy: 0.9465 - val_loss: 0.3912\n",
            "Epoch 99/100\n",
            "\u001b[1m111/111\u001b[0m \u001b[32m━━━━━━━━━━━━━━━━━━━━\u001b[0m\u001b[37m\u001b[0m \u001b[1m21s\u001b[0m 128ms/step - accuracy: 0.9464 - loss: 0.1581 - val_accuracy: 0.9442 - val_loss: 0.3832\n",
            "Epoch 100/100\n",
            "\u001b[1m111/111\u001b[0m \u001b[32m━━━━━━━━━━━━━━━━━━━━\u001b[0m\u001b[37m\u001b[0m \u001b[1m21s\u001b[0m 133ms/step - accuracy: 0.9476 - loss: 0.1612 - val_accuracy: 0.9448 - val_loss: 0.3704\n"
          ]
        }
      ]
    },
    {
      "cell_type": "code",
      "source": [
        "import matplotlib.pyplot as plt\n",
        "# Function to plot training accuracy and loss\n",
        "def plot_training_history(history):\n",
        "    # Extract the data from the history object\n",
        "    acc = history.history['accuracy']\n",
        "    val_acc = history.history['val_accuracy']\n",
        "    loss = history.history['loss']\n",
        "    val_loss = history.history['val_loss']\n",
        "\n",
        "    epochs_range = range(len(acc))\n",
        "\n",
        "    # Plot Accuracy\n",
        "    plt.figure(figsize=(14, 5))\n",
        "\n",
        "    # Accuracy Plot\n",
        "    plt.subplot(1, 2, 1)\n",
        "    plt.plot(epochs_range, acc, label='Training Accuracy')\n",
        "    plt.plot(epochs_range, val_acc, label='Validation Accuracy')\n",
        "    plt.legend(loc='lower right')\n",
        "    plt.title('Training and Validation Accuracy')\n",
        "    plt.xlabel('Epochs')\n",
        "    plt.ylabel('Accuracy')\n",
        "\n",
        "    # Loss Plot\n",
        "    plt.subplot(1, 2, 2)\n",
        "    plt.plot(epochs_range, loss, label='Training Loss')\n",
        "    plt.plot(epochs_range, val_loss, label='Validation Loss')\n",
        "    plt.legend(loc='upper right')\n",
        "    plt.title('Training and Validation Loss')\n",
        "    plt.xlabel('Epochs')\n",
        "    plt.ylabel('Loss')\n",
        "\n",
        "    # Show the plots\n",
        "    plt.tight_layout()\n",
        "    plt.show()\n",
        "\n",
        "# Call the function to plot the history\n",
        "plot_training_history(history)\n"
      ],
      "metadata": {
        "colab": {
          "base_uri": "https://localhost:8080/",
          "height": 349
        },
        "id": "d6SAgNl3U4Bu",
        "outputId": "efbf455e-2361-4d14-a917-d8dca32b9ce3"
      },
      "execution_count": 24,
      "outputs": [
        {
          "output_type": "display_data",
          "data": {
            "text/plain": [
              "<Figure size 1400x500 with 2 Axes>"
            ],
            "image/png": "[encoded data removed]"
          },
          "metadata": {}
        }
      ]
    },
    {
      "cell_type": "code",
      "source": [
        "# Save model\n",
        "model.save('chatbot_model.h5')\n",
        "\n",
        "# Load model jika sudah disimpan sebelumnya\n",
        "model = tf.keras.models.load_model('chatbot_model.h5')\n"
      ],
      "metadata": {
        "colab": {
          "base_uri": "https://localhost:8080/"
        },
        "id": "ms7SySlDZCxc",
        "outputId": "5c767ac3-0fe5-4d4e-9a3f-e7db5bb2232a"
      },
      "execution_count": 25,
      "outputs": [
        {
          "output_type": "stream",
          "name": "stderr",
          "text": [
            "WARNING:absl:You are saving your model as an HDF5 file via `model.save()` or `keras.saving.save_model(model)`. This file format is considered legacy. We recommend using instead the native Keras format, e.g. `model.save('my_model.keras')` or `keras.saving.save_model(model, 'my_model.keras')`. \n",
            "WARNING:absl:Compiled the loaded model, but the compiled metrics have yet to be built. `model.compile_metrics` will be empty until you train or evaluate the model.\n"
          ]
        }
      ]
    },
    {
      "cell_type": "code",
      "source": [
        "def clean_input(text):\n",
        "    text = re.sub(\"[^a-zA-Z]\", ' ', text)\n",
        "    text = text.lower().split()\n",
        "    stop_words = set(nltk.corpus.stopwords.words(\"english\"))\n",
        "    text = [word for word in text if word not in stop_words]\n",
        "    return \" \".join(text)\n",
        "\n",
        "def predict_response(text):\n",
        "    cleaned_text = clean_input(text)\n",
        "    input_sequence = tokenizer.texts_to_sequences([cleaned_text])\n",
        "    padded_sequence = pad_sequences(input_sequence, maxlen=MAXLEN, padding=PADDING, truncating=TRUNCATING)\n",
        "    prediction = model.predict(padded_sequence)\n",
        "    predicted_tag_index = np.argmax(prediction)\n",
        "    predicted_tag = label_encoder.inverse_transform([predicted_tag_index])[0]\n",
        "    response = np.random.choice(responses[predicted_tag])\n",
        "    return response\n",
        "\n",
        "def chat():\n",
        "    print(\"Chatbot siap! (Ketik 'quit' untuk keluar)\")\n",
        "\n",
        "    while True:\n",
        "        user_input = input(\"You: \")\n",
        "        if user_input.lower() == \"quit\":\n",
        "            print(\"Chatbot: Terima kasih! Sampai jumpa lagi!\")\n",
        "            break\n",
        "\n",
        "        response = predict_response(user_input)\n",
        "        print(\"Chatbot:\", response)\n",
        "\n",
        "# Jalankan chatbot\n",
        "chat()\n"
      ],
      "metadata": {
        "colab": {
          "base_uri": "https://localhost:8080/"
        },
        "id": "Fkp_GNO_ZwMM",
        "outputId": "fb364158-306a-4e5a-d85e-2a5010a17f93"
      },
      "execution_count": 26,
      "outputs": [
        {
          "output_type": "stream",
          "name": "stdout",
          "text": [
            "Chatbot siap! (Ketik 'quit' untuk keluar)\n",
            "You: What should I avoid doing in Bali?\n",
            "\u001b[1m1/1\u001b[0m \u001b[32m━━━━━━━━━━━━━━━━━━━━\u001b[0m\u001b[37m\u001b[0m \u001b[1m1s\u001b[0m 1s/step\n",
            "Chatbot: In Bali, avoid touching religious offerings or idols, stepping on temple grounds without proper attire, and making loud noises during religious ceremonies.\n",
            "You: Tell me about Balinese cuisine.\n",
            "\u001b[1m1/1\u001b[0m \u001b[32m━━━━━━━━━━━━━━━━━━━━\u001b[0m\u001b[37m\u001b[0m \u001b[1m0s\u001b[0m 24ms/step\n",
            "Chatbot: Balinese cuisine includes dishes like bebek betutu (slow-cooked duck), lawar (mixed vegetable and meat dish), and sate lilit (minced meat satay), which reflect the region's rich culinary heritage.\n",
            "You: hai\n",
            "\u001b[1m1/1\u001b[0m \u001b[32m━━━━━━━━━━━━━━━━━━━━\u001b[0m\u001b[37m\u001b[0m \u001b[1m0s\u001b[0m 25ms/step\n",
            "Chatbot: Hi there, how can I help?\n",
            "You: bye bye\n",
            "\u001b[1m1/1\u001b[0m \u001b[32m━━━━━━━━━━━━━━━━━━━━\u001b[0m\u001b[37m\u001b[0m \u001b[1m0s\u001b[0m 25ms/step\n",
            "Chatbot: Sad to see you go :(\n",
            "You: quit\n",
            "Chatbot: Terima kasih! Sampai jumpa lagi!\n"
          ]
        }
      ]
    }
  ]
}